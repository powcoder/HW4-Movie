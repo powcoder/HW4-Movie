{
    "metadata": {
        "kernelspec": {
            "name": "python3",
            "display_name": "Python 3 (ipykernel)",
            "language": "python"
        }
    },
    "nbformat": 4,
    "nbformat_minor": 5,
    "cells": [
        {
            "attachments": {},
            "cell_type": "markdown",
            "metadata": {},
            "source": [
                "## Movie Ratings over Time\n",
                "\n",
                "Here are some made up movie ratings for us to practice some SQL. This problem was made by Shengjia Guo and edited by the instructors. Wayne Lee assumes any mistakes and typos generated.\n",
                "\n",
                "Here are the tables and their respective columns:\n",
                "- `rating`\n",
                "  - `rid`: reviewer id, int\n",
                "  - `mid`: movie id, int\n",
                "  - `stars`: stars given to a movie, 0 to 5, int\n",
                "  - `ratingdate`: date the review was given, text (SQLite does not support Date datatypes natively)\n",
                "- `movie`\n",
                "  - `mid`: movie id, int\n",
                "  - `title`: title of the movie, text\n",
                "  - `year`: year of the movie was released, integer\n",
                "  - `director`: director of the movie, text\n",
                "- `reviewer`\n",
                "  - `rid`: reviwer id, int\n",
                "  - `name`: name of reviewer, text"
            ]
        },
        {
            "attachments": {},
            "cell_type": "markdown",
            "metadata": {},
            "source": [
                "#### Task 1\n",
                "\n",
                "Write the `SELECT` query that finds all the movies that have a rating range (max stars-min stars) less than or equal to 1 stars but with at least 2 reviews. Your query should return the title of each movie and the rating range for the corresponding movie.\n",
                "Your SQL query should be written as a string variable called `query` in Python."
            ]
        },
        {
            "cell_type": "code",
            "execution_count": 8,
            "metadata": {},
            "outputs": [],
            "source": [
                "import sqlite3"
            ]
        },
        {
            "cell_type": "code",
            "execution_count": 9,
            "metadata": {},
            "outputs": [],
            "source": [
                "conn = sqlite3.connect('movie_ratings.db')\n",
                "cursor = conn.cursor()"
            ]
        },
        {
            "cell_type": "code",
            "execution_count": 2,
            "metadata": {},
            "outputs": [],
            "source": [
                "### TEST FUNCTION: test_tight_range\n",
                "# DO NOT REMOVE THE LINE ABOVE\n",
                "\n",
                "query = \"\"\"\n",
                "\"\"\""
            ]
        },
        {
            "attachments": {},
            "cell_type": "markdown",
            "metadata": {},
            "source": [
                "#### Task 2\n",
                "\n",
                "Write the `SELECT` query, as a string variable called `query`, that returns the summary of the movies, i.e. for each movie you should report, in the following order:\n",
                "- the movie title\n",
                "- the director of the movie. If a movie’s director is NULL, assign 'Unknown Director' to those observations. Hint: `COALESCE`\n",
                "- the year that movie was filmed\n",
                "- the number of ratings that movie receives\n",
                "- the average stars of that movie across all ratings"
            ]
        },
        {
            "cell_type": "code",
            "execution_count": 3,
            "metadata": {},
            "outputs": [],
            "source": [
                "### TEST FUNCTION: test_summary\n",
                "# DO NOT REMOVE THE LINE ABOVE\n",
                "\n",
                "query = \"\"\"\n",
                "\"\"\"\n",
                ""
            ]
        },
        {
            "cell_type": "code",
            "execution_count": 14,
            "metadata": {},
            "outputs": [],
            "source": [
                ""
            ]
        },
        {
            "attachments": {},
            "cell_type": "markdown",
            "metadata": {},
            "source": [
                "#### Task 3 - creating variables\n",
                "\n",
                "To answer the question whether movies before 1980 were better, please calculate the average rating for each movie, then calculate the average of these averages before vs after 1980. Your `SELECT` statement should return 2 averages, one for before and one for after 1980. Please assign the difference between the two averages to the variable `old_vs_new`."
            ]
        },
        {
            "cell_type": "code",
            "execution_count": 4,
            "metadata": {},
            "outputs": [],
            "source": [
                "### TEST FUNCTION: test_old_vs_new\n",
                "# DO NOT REMOVE THE LINE ABOVE\n",
                "\n",
                "query = \"\"\"\n",
                "\n",
                "\"\"\"\n",
                ""
            ]
        },
        {
            "attachments": {},
            "cell_type": "markdown",
            "metadata": {},
            "source": [
                "#### Task 4 - identifying bad data and multiple joins\n",
                "\n",
                "Some reviews do not have a rating date (that is, the ratingdate is NULL). Return the title of the movie, the name of \n",
                "  reviewer, and the stars the reviewer gave the movie for all ratings without a rating date. Make sure your `SELECT` statement is in a string variable called `query`."
            ]
        },
        {
            "cell_type": "code",
            "execution_count": 5,
            "metadata": {},
            "outputs": [],
            "source": [
                "### TEST FUNCTION: test_null\n",
                "# DO NOT REMOVE THE LINE ABOVE\n",
                "\n",
                "query = \"\"\"\n",
                "\n",
                "\"\"\"\n",
                ""
            ]
        },
        {
            "cell_type": "code",
            "execution_count": 13,
            "metadata": {},
            "outputs": [],
            "source": [
                ""
            ]
        }
    ]
}
